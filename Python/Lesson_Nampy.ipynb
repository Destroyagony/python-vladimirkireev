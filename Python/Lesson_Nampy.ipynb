{
 "cells": [
  {
   "cell_type": "code",
   "execution_count": null,
   "metadata": {},
   "outputs": [],
   "source": [
    "aScalar = 4 # create scalar\n",
    "\n",
    "#distinguish - различать\n",
    "\n",
    "магнитуда - длина и направление"
   ]
  }
 ],
 "metadata": {
  "language_info": {
   "name": "python"
  },
  "orig_nbformat": 4
 },
 "nbformat": 4,
 "nbformat_minor": 2
}
