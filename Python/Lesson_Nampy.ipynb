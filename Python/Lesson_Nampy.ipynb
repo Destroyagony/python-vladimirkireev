{
 "cells": [
  {
   "cell_type": "code",
   "execution_count": null,
   "metadata": {},
   "outputs": [],
   "source": [
    "aScalar = 4 # create scalar\n",
    "\n",
    "#distinguish - различать\n"
   ]
  },
  {
   "cell_type": "markdown",
   "metadata": {},
   "source": [
    "магнитуда - длина и направление"
   ]
  },
  {
   "cell_type": "code",
   "execution_count": 55,
   "metadata": {},
   "outputs": [
    {
     "data": {
      "image/png": "[encoded data removed]",
      "text/plain": [
       "<Figure size 640x480 with 1 Axes>"
      ]
     },
     "metadata": {},
     "output_type": "display_data"
    }
   ],
   "source": [
    "import numpy as np\n",
    "import matplotlib.pyplot as plt\n",
    "vector = np.array([2,3]) # одномерный массив\n",
    "vector1 = np.array([[2,3]], dtype=\"int8\") # row-vector / ориентация\n",
    "vector_trans = np.array([[2,3]]).T # T - транспонирование, row-vector => column-vector  \n",
    "vector3 = np.array([[2],[3]]) # column-vector \n",
    "vector1.ndim # 2D\n",
    "vector1.T.shape, vector.T.shape\n",
    "vector1.dtype # dtype('int64') for default \n",
    "vector1.nbytes # size of object\n",
    "vector1.size\n",
    "# int8 => range value from -128 to 127\n",
    "# 2**power from 0 to 10  2^0 => 1, 2^1 => 2\n",
    "# c => numpy\n",
    "plt.plot([0, vector1[0][0]],[0,vector1[0][1]])\n",
    "# plt.axis([-5,5,-5,5])\n",
    "plt.xlim(-5,5)\n",
    "plt.ylim(-5,5)\n",
    "plt.grid()\n",
    "plt.show()\n",
    "# dir(vector1)\n",
    "# type(vector1)\n",
    "# help(vector1.T) # свойство класса / атрибут \n",
    "# dir(np)\n",
    "# help(vector)\n",
    "# x = \"\" # создание объекта sint sugar\n",
    "# x = str() # создание экз класса / объекта\n",
    "# type(x)\n",
    "# str\n",
    "\n",
    "# class ndarray1:\n",
    "#     T = \"Name\" # свойство класса\n",
    "    \n",
    "#     def get_value(self):\n",
    "#         return \"Hello world\"\n",
    "\n",
    "# ndarray1.T # call property\n",
    "# object1 = ndarray1() # create object\n",
    "# object1.get_value() # call method \n",
    "# dir(object1)\n",
    "# vector2"
   ]
  },
  {
   "cell_type": "markdown",
   "metadata": {},
   "source": [
    "T - атрибут, транспонирование (математическая операция, которая позволяет из строки сделать колонку и наоборот)"
   ]
  },
  {
   "cell_type": "markdown",
   "metadata": {},
   "source": [
    "вектор с точки зрения геометрии - это направленный отрезок\n",
    "вектор с точки зрения алгебры - упорядоченный список чисел"
   ]
  },
  {
   "cell_type": "markdown",
   "metadata": {},
   "source": [
    "стандартное положение вектора  - радиус вектор"
   ]
  }
 ],
 "metadata": {
  "kernelspec": {
   "display_name": "Python 3",
   "language": "python",
   "name": "python3"
  },
  "language_info": {
   "codemirror_mode": {
    "name": "ipython",
    "version": 3
   },
   "file_extension": ".py",
   "mimetype": "text/x-python",
   "name": "python",
   "nbconvert_exporter": "python",
   "pygments_lexer": "ipython3",
   "version": "3.11.4"
  },
  "orig_nbformat": 4
 },
 "nbformat": 4,
 "nbformat_minor": 2
}
