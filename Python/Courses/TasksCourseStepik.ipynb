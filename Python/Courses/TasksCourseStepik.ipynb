{
 "cells": [
  {
   "cell_type": "markdown",
   "metadata": {},
   "source": [
    "\"Поколение Python\": курс для начинающих\n",
    "Решение задач"
   ]
  },
  {
   "cell_type": "code",
   "execution_count": null,
   "metadata": {},
   "outputs": [],
   "source": [
    "# 2.2 step 11\n",
    "name = input()\n",
    "print(\"Привет,\", name)"
   ]
  },
  {
   "cell_type": "code",
   "execution_count": null,
   "metadata": {},
   "outputs": [],
   "source": [
    "# 2.2 step 12\n",
    "name = input()\n",
    "print(name, \"- чемпион!\")"
   ]
  },
  {
   "cell_type": "code",
   "execution_count": null,
   "metadata": {},
   "outputs": [],
   "source": [
    "# 2.2 step 13\n",
    "a = input()\n",
    "print(a)\n",
    "b = input()\n",
    "print(b)\n",
    "c = input()\n",
    "print(c)"
   ]
  },
  {
   "cell_type": "code",
   "execution_count": null,
   "metadata": {},
   "outputs": [],
   "source": [
    "# 2.2 step 14\n",
    "a = input()\n",
    "b = input()\n",
    "c = input()\n",
    "print(c)\n",
    "print(b)\n",
    "print(a)"
   ]
  },
  {
   "cell_type": "code",
   "execution_count": null,
   "metadata": {},
   "outputs": [],
   "source": [
    "# 2.3 step 5\n",
    "print(\"I\", \"like\", \"Python\", sep=\"***\")"
   ]
  },
  {
   "cell_type": "code",
   "execution_count": null,
   "metadata": {},
   "outputs": [],
   "source": [
    "# 2.3 step 6\n",
    "a = input()\n",
    "b = input()\n",
    "c = input()\n",
    "d = input()\n",
    "print(b,c,d, sep=a)  # сепаратором можно использовать переменную"
   ]
  },
  {
   "cell_type": "code",
   "execution_count": null,
   "metadata": {},
   "outputs": [],
   "source": [
    "# 2.3 step 7\n",
    "a = input()\n",
    "print(\"Привет,\", a, end=\"!\")"
   ]
  },
  {
   "cell_type": "code",
   "execution_count": null,
   "metadata": {},
   "outputs": [],
   "source": [
    "# 2.4 step 5\n",
    "a = int(input())\n",
    "print(a)\n",
    "print(a + 1)\n",
    "print(a + 2)"
   ]
  },
  {
   "cell_type": "code",
   "execution_count": null,
   "metadata": {},
   "outputs": [],
   "source": [
    "# 2.4 step 6\n",
    "a = int(input())\n",
    "b = int(input())\n",
    "c = int(input())\n",
    "print(a + b + c)"
   ]
  },
  {
   "cell_type": "code",
   "execution_count": null,
   "metadata": {},
   "outputs": [],
   "source": [
    "# 2.4 step 7\n",
    "a = int(input())\n",
    "print(\"Объем =\", a*a*a)\n",
    "print(\"Площадь полной поверхности =\", 6*a*a)"
   ]
  },
  {
   "cell_type": "code",
   "execution_count": null,
   "metadata": {},
   "outputs": [],
   "source": [
    "# 2.4 step 8\n",
    "a = int(input())\n",
    "b = int(input())\n",
    "print(3 * (a+b)**3 + 275 * b**2 - 127 * a - 41"
   ]
  },
  {
   "cell_type": "code",
   "execution_count": null,
   "metadata": {},
   "outputs": [],
   "source": [
    "# 2.4 step 9\n",
    "a = int(input())\n",
    "print(\"Следующее за числом\", a, \"число:\", a + 1)\n",
    "print(\"Для числа\", a, \"предыдущее число:\", a - 1)"
   ]
  },
  {
   "cell_type": "code",
   "execution_count": null,
   "metadata": {},
   "outputs": [],
   "source": [
    "# 2.4 step 10\n",
    "screen = int(input())\n",
    "pc = int(input())\n",
    "keyboard = int(input())\n",
    "mouse = int(input())\n",
    "print(3 * (screen + pc + keyboard + mouse))"
   ]
  },
  {
   "cell_type": "code",
   "execution_count": null,
   "metadata": {},
   "outputs": [],
   "source": [
    "# 2.4 step 11\n",
    "a = int(input())\n",
    "b = int(input())\n",
    "print (a, \"+\", b, \"=\", a + b)\n",
    "print (a, \"-\", b, \"=\", a - b)\n",
    "print (a, \"*\", b, \"=\", a * b)"
   ]
  },
  {
   "cell_type": "code",
   "execution_count": null,
   "metadata": {},
   "outputs": [],
   "source": [
    "# 2.4 step 12\n",
    "a = int(input())\n",
    "d = int(input())\n",
    "n = int(input())\n",
    "print(a + d * (n - 1))"
   ]
  },
  {
   "cell_type": "code",
   "execution_count": null,
   "metadata": {},
   "outputs": [],
   "source": [
    "# 2.4 step 13\n",
    "x = int(input())\n",
    "print(x, 2 * x, 3 * x, 4 * x, 5 * x, sep=\"---\")"
   ]
  },
  {
   "cell_type": "code",
   "execution_count": null,
   "metadata": {},
   "outputs": [],
   "source": [
    "# 2.5 step 6\n",
    "b = int(input())\n",
    "q = int(input())\n",
    "n = int(input())\n",
    "print(b * q**(n-1))"
   ]
  },
  {
   "cell_type": "code",
   "execution_count": null,
   "metadata": {},
   "outputs": [],
   "source": [
    "# 2.5 step 7\n",
    "a = int(input())\n",
    "print(a // 100)"
   ]
  },
  {
   "cell_type": "code",
   "execution_count": null,
   "metadata": {},
   "outputs": [],
   "source": [
    "# 2.5 step 8\n",
    "school = int(input())\n",
    "orange = int(input())\n",
    "print(orange // school)\n",
    "print(orange % school)"
   ]
  },
  {
   "cell_type": "code",
   "execution_count": null,
   "metadata": {},
   "outputs": [],
   "source": [
    "# 2.5 step 9\n",
    "n = int(input())\n",
    "print((n + 1) // 2)"
   ]
  },
  {
   "cell_type": "code",
   "execution_count": null,
   "metadata": {},
   "outputs": [],
   "source": [
    "# 2.5 step 11\n",
    "minutes = int(input())\n",
    "hours = minutes // 60\n",
    "minutes_left = minutes % 60\n",
    "print(minutes, \"мин - это\", hours, \"час\", minutes_left,\"минут.\")"
   ]
  }
 ],
 "metadata": {
  "kernelspec": {
   "display_name": "venv",
   "language": "python",
   "name": "python3"
  },
  "language_info": {
   "codemirror_mode": {
    "name": "ipython",
    "version": 3
   },
   "file_extension": ".py",
   "mimetype": "text/x-python",
   "name": "python",
   "nbconvert_exporter": "python",
   "pygments_lexer": "ipython3",
   "version": "3.8.9"
  },
  "orig_nbformat": 4
 },
 "nbformat": 4,
 "nbformat_minor": 2
}
