{
 "cells": [
  {
   "cell_type": "code",
   "execution_count": 13,
   "metadata": {},
   "outputs": [
    {
     "name": "stdout",
     "output_type": "stream",
     "text": [
      "61\n"
     ]
    }
   ],
   "source": [
    "# 6.10 step 11 Множества\n",
    "my_list = [56, 59, 53, 75, 62, 61, 75, 65, 59, 62, 64, 53,\n",
    "           54, 62, 69, 53, 55, 62, 54, 66, 55, 57, 58, 75,\n",
    "           72, 55, 51, 56, 71, 66, 57, 56, 59, 73, 68, 57,\n",
    "           50, 54, 62, 68, 59, 64, 59, 59, 71, 68, 57, 54, 53, 72]\n",
    "\n",
    "my_set = set(my_list)\n",
    "print(sum(my_set) / len(my_set))\n"
   ]
  },
  {
   "cell_type": "code",
   "execution_count": null,
   "metadata": {},
   "outputs": [],
   "source": [
    "# 6.10 step 12 Множества \n",
    "s = input()\n",
    "my_set = set(s)\n",
    "\n",
    "if len(my_set) % 2 == 0:\n",
    "    print('CHAT WITH HER!')\n",
    "else:\n",
    "    print('IGNORE HIM!')\n"
   ]
  },
  {
   "cell_type": "code",
   "execution_count": null,
   "metadata": {},
   "outputs": [],
   "source": [
    "# 6.10 step 13 Не смешите мои подковы\n",
    "text = input().split()\n",
    "a = set(text)\n",
    "print(len(text) - len(a))"
   ]
  },
  {
   "cell_type": "code",
   "execution_count": null,
   "metadata": {},
   "outputs": [],
   "source": [
    "# 6.10 step 14 панграмма\n",
    "# получаем строку # меняем регистр\n",
    "text = input().lower()\n",
    "# преобразуем в множество\n",
    "pangramma = set(text)\n",
    "# считаем количество букв, если оно == 26, это панграмма\n",
    "if len(pangramma) == 26:\n",
    "    print('YES')\n",
    "else:\n",
    "    print('NO')\n"
   ]
  },
  {
   "cell_type": "code",
   "execution_count": null,
   "metadata": {},
   "outputs": [],
   "source": [
    "mnojestvo = {a, a, a, a, a, a, a, a, a, a, a, a, a, a, a, a, a, a, a, a, a, a, a, a, a, a, a, a, a, a, a, a, a, a, a, a, a, a, a, a, a, a, a, a, a, a, a, a, a, a, a, a, a, a, a, a, a, a, a, a, a, a, a, a, a, a, a, a, a, a, a, a, a, a, a, a, a, a, a, a, a, a, a, a, a, a, a, a, a, a, a, a, a, a, a, a, a, a, a, a}\n",
    "\n",
    "lst = []\n",
    "\n",
    "print(len(mnojestvo))\n",
    "\n",
    "for i in range(len(mnojestvo)):\n",
    "    #if i.isalpha():\n",
    "    #    lst.append(i)\n",
    "    print(i)\n",
    "\n",
    "print(lst)\n",
    "#print(len(set((mnojestvo))))\n"
   ]
  },
  {
   "cell_type": "code",
   "execution_count": 3,
   "metadata": {},
   "outputs": [
    {
     "name": "stdout",
     "output_type": "stream",
     "text": [
      "B**E**E**G**E**E**K\n"
     ]
    }
   ],
   "source": [
    "s = 'BEEGEEK'\n",
    "chars = list(s)\n",
    "s = '**'.join(chars)\n",
    "print(s)"
   ]
  }
 ],
 "metadata": {
  "kernelspec": {
   "display_name": "venv",
   "language": "python",
   "name": "python3"
  },
  "language_info": {
   "codemirror_mode": {
    "name": "ipython",
    "version": 3
   },
   "file_extension": ".py",
   "mimetype": "text/x-python",
   "name": "python",
   "nbconvert_exporter": "python",
   "pygments_lexer": "ipython3",
   "version": "3.11.2"
  }
 },
 "nbformat": 4,
 "nbformat_minor": 2
}
