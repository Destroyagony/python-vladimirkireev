{
 "cells": [
  {
   "cell_type": "markdown",
   "metadata": {},
   "source": [
    "\"Поколение Python\": курс для начинающих\n",
    "Решение задач"
   ]
  },
  {
   "cell_type": "code",
   "execution_count": null,
   "metadata": {},
   "outputs": [],
   "source": [
    "# 2.2 step 11\n",
    "name = input()\n",
    "print(\"Привет,\", name)"
   ]
  },
  {
   "cell_type": "code",
   "execution_count": null,
   "metadata": {},
   "outputs": [],
   "source": [
    "# 2.2 step 12\n",
    "name = input()\n",
    "print(name, \"- чемпион!\")"
   ]
  },
  {
   "cell_type": "code",
   "execution_count": null,
   "metadata": {},
   "outputs": [],
   "source": [
    "# 2.2 step 13\n",
    "a = input()\n",
    "print(a)\n",
    "b = input()\n",
    "print(b)\n",
    "c = input()\n",
    "print(c)"
   ]
  },
  {
   "cell_type": "code",
   "execution_count": null,
   "metadata": {},
   "outputs": [],
   "source": [
    "# 2.2 step 14\n",
    "a = input()\n",
    "b = input()\n",
    "c = input()\n",
    "print(c)\n",
    "print(b)\n",
    "print(a)"
   ]
  },
  {
   "cell_type": "code",
   "execution_count": null,
   "metadata": {},
   "outputs": [],
   "source": [
    "# 2.3 step 5\n",
    "print(\"I\", \"like\", \"Python\", sep=\"***\")"
   ]
  },
  {
   "cell_type": "code",
   "execution_count": null,
   "metadata": {},
   "outputs": [],
   "source": [
    "# 2.3 step 6\n",
    "a = input()\n",
    "b = input()\n",
    "c = input()\n",
    "d = input()\n",
    "print(b,c,d, sep=a)  # сепаратором можно использовать переменную"
   ]
  },
  {
   "cell_type": "code",
   "execution_count": null,
   "metadata": {},
   "outputs": [],
   "source": [
    "# 2.3 step 7\n",
    "a = input()\n",
    "print(\"Привет,\", a, end=\"!\")"
   ]
  },
  {
   "cell_type": "code",
   "execution_count": null,
   "metadata": {},
   "outputs": [],
   "source": [
    "# 2.4 step 5\n",
    "a = int(input())\n",
    "print(a)\n",
    "print(a + 1)\n",
    "print(a + 2)"
   ]
  },
  {
   "cell_type": "code",
   "execution_count": null,
   "metadata": {},
   "outputs": [],
   "source": [
    "# 2.4 step 6\n",
    "a = int(input())\n",
    "b = int(input())\n",
    "c = int(input())\n",
    "print(a + b + c)"
   ]
  },
  {
   "cell_type": "code",
   "execution_count": null,
   "metadata": {},
   "outputs": [],
   "source": [
    "# 2.4 step 7\n",
    "a = int(input())\n",
    "print(\"Объем =\", a*a*a)\n",
    "print(\"Площадь полной поверхности =\", 6*a*a)"
   ]
  },
  {
   "cell_type": "code",
   "execution_count": null,
   "metadata": {},
   "outputs": [],
   "source": [
    "# 2.4 step 8\n",
    "a = int(input())\n",
    "b = int(input())\n",
    "print(3 * (a+b)**3 + 275 * b**2 - 127 * a - 41"
   ]
  },
  {
   "cell_type": "code",
   "execution_count": null,
   "metadata": {},
   "outputs": [],
   "source": [
    "# 2.4 step 9\n",
    "a = int(input())\n",
    "print(\"Следующее за числом\", a, \"число:\", a + 1)\n",
    "print(\"Для числа\", a, \"предыдущее число:\", a - 1)"
   ]
  },
  {
   "cell_type": "code",
   "execution_count": null,
   "metadata": {},
   "outputs": [],
   "source": [
    "# 2.4 step 10\n",
    "screen = int(input())\n",
    "pc = int(input())\n",
    "keyboard = int(input())\n",
    "mouse = int(input())\n",
    "print(3 * (screen + pc + keyboard + mouse))"
   ]
  },
  {
   "cell_type": "code",
   "execution_count": null,
   "metadata": {},
   "outputs": [],
   "source": [
    "# 2.4 step 11\n",
    "a = int(input())\n",
    "b = int(input())\n",
    "print (a, \"+\", b, \"=\", a + b)\n",
    "print (a, \"-\", b, \"=\", a - b)\n",
    "print (a, \"*\", b, \"=\", a * b)"
   ]
  },
  {
   "cell_type": "code",
   "execution_count": null,
   "metadata": {},
   "outputs": [],
   "source": [
    "# 2.4 step 12\n",
    "a = int(input())\n",
    "d = int(input())\n",
    "n = int(input())\n",
    "print(a + d * (n - 1))"
   ]
  },
  {
   "cell_type": "code",
   "execution_count": null,
   "metadata": {},
   "outputs": [],
   "source": [
    "# 2.4 step 13\n",
    "x = int(input())\n",
    "print(x, 2 * x, 3 * x, 4 * x, 5 * x, sep=\"---\")"
   ]
  },
  {
   "cell_type": "code",
   "execution_count": null,
   "metadata": {},
   "outputs": [],
   "source": [
    "# 2.5 step 6\n",
    "b = int(input())\n",
    "q = int(input())\n",
    "n = int(input())\n",
    "print(b * q**(n-1))"
   ]
  },
  {
   "cell_type": "code",
   "execution_count": null,
   "metadata": {},
   "outputs": [],
   "source": [
    "# 2.5 step 7\n",
    "a = int(input())\n",
    "print(a // 100)"
   ]
  },
  {
   "cell_type": "code",
   "execution_count": null,
   "metadata": {},
   "outputs": [],
   "source": [
    "# 2.5 step 8\n",
    "school = int(input())\n",
    "orange = int(input())\n",
    "print(orange // school)\n",
    "print(orange % school)"
   ]
  },
  {
   "cell_type": "code",
   "execution_count": null,
   "metadata": {},
   "outputs": [],
   "source": [
    "# 2.5 step 9\n",
    "n = int(input())\n",
    "print((n + 1) // 2)"
   ]
  },
  {
   "cell_type": "code",
   "execution_count": null,
   "metadata": {},
   "outputs": [],
   "source": [
    "# 2.5 step 11\n",
    "minutes = int(input())\n",
    "hours = minutes // 60\n",
    "minutes_left = minutes % 60\n",
    "print(minutes, \"мин - это\", hours, \"час\", minutes_left,\"минут.\")"
   ]
  },
  {
   "cell_type": "code",
   "execution_count": null,
   "metadata": {},
   "outputs": [],
   "source": [
    "# 4.1 step 4\n",
    "password = str(input())\n",
    "repeat = str(input())\n",
    "\n",
    "if password == repeat:\n",
    "    print(\"Пароль принят\")\n",
    "else:\n",
    "    print(\"Пароль не принят\")"
   ]
  },
  {
   "cell_type": "code",
   "execution_count": null,
   "metadata": {},
   "outputs": [],
   "source": [
    "# 4.1 step 5\n",
    "a = int(input())\n",
    "\n",
    "if a % 2 == 0:\n",
    "    print(\"Четное\")\n",
    "else:\n",
    "    print(\"Нечетное\")"
   ]
  },
  {
   "cell_type": "code",
   "execution_count": null,
   "metadata": {},
   "outputs": [],
   "source": [
    "# 4.1 step 6\n",
    "a = int(input())\n",
    "num1 = a // 1000\n",
    "num2 = a // 100 % 10\n",
    "num3 = a % 100 // 10\n",
    "num4 = a % 10\n",
    "\n",
    "if num1 + num4 == num2 - num3:\n",
    "    print(\"ДА\")\n",
    "else:\n",
    "    print(\"НЕТ\")"
   ]
  },
  {
   "cell_type": "code",
   "execution_count": null,
   "metadata": {},
   "outputs": [],
   "source": [
    "# 4.1 step 7\n",
    "age = int(input())\n",
    "\n",
    "if age >= 18:\n",
    "    print(\"Доступ разрешен\")\n",
    "else:\n",
    "    print(\"Доступ запрещен\")"
   ]
  },
  {
   "cell_type": "code",
   "execution_count": null,
   "metadata": {},
   "outputs": [],
   "source": [
    "# 4.1 step 8\n",
    "a = int(input())\n",
    "b = int(input())\n",
    "c = int(input())\n",
    "step = c - b\n",
    "\n",
    "if a + step == b and b + step == c:\n",
    "    print(\"YES\")\n",
    "else:\n",
    "    print(\"NO\")"
   ]
  },
  {
   "cell_type": "code",
   "execution_count": null,
   "metadata": {},
   "outputs": [],
   "source": [
    "# 4.1 step 9\n",
    "a, b = int(input()), int(input())\n",
    "\n",
    "if a < b:\n",
    "    print(a)\n",
    "if b < a:\n",
    "    print(b)"
   ]
  },
  {
   "cell_type": "code",
   "execution_count": null,
   "metadata": {},
   "outputs": [],
   "source": [
    "a,b,c,d = int(input()), int(input()), int(input()), int(input())\n",
    "\n",
    "if a < b: a < c: a < d:\n",
    "    print(a)\n",
    "if b < a and b < c and b < d:\n",
    "    print(b)\n",
    "if c < b and c < a and c < d:\n",
    "    print(c)\n",
    "if d < b and d < c and d< a:\n",
    "    print(d)"
   ]
  },
  {
   "cell_type": "code",
   "execution_count": 28,
   "metadata": {},
   "outputs": [
    {
     "name": "stdout",
     "output_type": "stream",
     "text": [
      "Квадрат суммы 3 и 2 равен 25\n",
      "Сумма квадратов 3 и 2 равна 13\n"
     ]
    }
   ],
   "source": [
    "a = int(input())\n",
    "b = int(input())\n",
    "\n",
    "print(\"Квадрат суммы\", a, \"и\", b, \"равен\", (a + b) ** 2)\n",
    "print(\"Сумма квадратов\", a, \"и\", b, \"равна\", a ** 2 + b ** 2)"
   ]
  },
  {
   "cell_type": "code",
   "execution_count": null,
   "metadata": {},
   "outputs": [],
   "source": [
    "# 4.1 step 11 ??? код работает, но решение не проходит\n",
    "year = int(input(\"Введите возраст: \"))\n",
    "\n",
    "if 0 < year <= 13:\n",
    "    print(\"детство\")\n",
    "elif 14 <= year <= 24: \n",
    "    print(\"молодость\")\n",
    "elif 25 <= year <= 59:\n",
    "    print(\"зрелость\")\n",
    "else:\n",
    "    print(\"старость\")"
   ]
  },
  {
   "cell_type": "code",
   "execution_count": null,
   "metadata": {},
   "outputs": [],
   "source": [
    "# 4.1 step 12\n",
    "a, b, c = int(input()), int(input()), int(input())\n",
    "sum = 0\n",
    "if a > 0:\n",
    "    sum += a\n",
    "if b > 0:\n",
    "    sum += b\n",
    "if c > 0:\n",
    "    sum += c\n",
    "print(sum)"
   ]
  },
  {
   "cell_type": "code",
   "execution_count": 6,
   "metadata": {},
   "outputs": [
    {
     "name": "stdout",
     "output_type": "stream",
     "text": [
      "100\n"
     ]
    }
   ],
   "source": [
    "# 4.2 step 8\n",
    "x = int(input())\n",
    "\n",
    "if x > -1 and x < 17:\n",
    "    print(\"Принадлежит\")\n",
    "else:\n",
    "    print(\"Не принадлежит\")"
   ]
  },
  {
   "cell_type": "code",
   "execution_count": null,
   "metadata": {},
   "outputs": [],
   "source": [
    "# 4.2 step 9\n",
    "x = int(input())\n",
    "\n",
    "if x <= -3 or x >= 7:\n",
    "    print(\"Принадлежит\")\n",
    "else:\n",
    "    print(\"Не принадлежит\")"
   ]
  },
  {
   "cell_type": "code",
   "execution_count": null,
   "metadata": {},
   "outputs": [],
   "source": [
    "# 4.2 step 10\n",
    "x = int(input())\n",
    "\n",
    "if -30 < x <=2 or 7 < x <= 25:\n",
    "    print(\"Принадлежит\")\n",
    "else:\n",
    "    print(\"Не принадлежит\")\n"
   ]
  },
  {
   "cell_type": "code",
   "execution_count": null,
   "metadata": {},
   "outputs": [],
   "source": [
    "# 4.2 step 11\n",
    "if 1000 <= x <= 9999 and (x % 7 ==0 or x % 17 == 0):\n",
    "    print('YES')\n",
    "else:\n",
    "    print('NO')\n"
   ]
  },
  {
   "cell_type": "code",
   "execution_count": null,
   "metadata": {},
   "outputs": [],
   "source": [
    "# 4.2 step 12\n",
    "a, b, c = int(input()), int(input()), int(input())\n",
    "\n",
    "if a + b > c and a + c > b and b + c > a:\n",
    "    print(\"YES\")\n",
    "else:\n",
    "    print(\"NO\")\n"
   ]
  },
  {
   "cell_type": "code",
   "execution_count": null,
   "metadata": {},
   "outputs": [],
   "source": [
    "# 4.2 step 13\n",
    "year = int(input())\n",
    "\n",
    "if (year % 4 == 0 and year % 100 != 0) or year % 400 == 0 :\n",
    "    print(\"YES\")\n",
    "else:\n",
    "    print(\"NO\")\n"
   ]
  },
  {
   "cell_type": "code",
   "execution_count": null,
   "metadata": {},
   "outputs": [],
   "source": [
    "# 4.2 step 14\n",
    "x1, y1, x2, y2 = int(input()), int(input()), int(input()), int(input())\n",
    "\n",
    "if x1 == x2 or y1 == y2:\n",
    "    print(\"YES\")\n",
    "else:\n",
    "    print(\"NO\")\n"
   ]
  },
  {
   "cell_type": "code",
   "execution_count": null,
   "metadata": {},
   "outputs": [],
   "source": [
    "# 4.2 step 15\n",
    "x1, y1, x2, y2 = int(input()), int(input()), int(input()), int(input())\n",
    "sumx = x2 - x1\n",
    "sumy = y2 -y1 \n",
    "if -1 <= sumx <= 1 and -1 <= sumy <= 1:\n",
    "    print(\"YES\")\n",
    "else:\n",
    "    print(\"NO\")"
   ]
  },
  {
   "cell_type": "code",
   "execution_count": null,
   "metadata": {},
   "outputs": [],
   "source": [
    "# 4.3 step 3\n",
    "zum, flesh = int(input()), int(input())\n",
    "\n",
    "if zum > flesh:\n",
    "    print(\"NO\")\n",
    "elif flesh > zum:\n",
    "    print(\"YES\")\n",
    "else: \n",
    "    print(\"Don't know\")"
   ]
  },
  {
   "cell_type": "code",
   "execution_count": null,
   "metadata": {},
   "outputs": [],
   "source": [
    "# 4.3 step 4\n",
    "a, b, c = int(input()), int(input()), int(input())\n",
    "\n",
    "if a == b == c:\n",
    "    print(\"Равносторонний\")\n",
    "elif a == b or b == c or a == c:\n",
    "    print(\"Равнобедренный\")\n",
    "else: \n",
    "    print(\"Разносторонний\")"
   ]
  },
  {
   "cell_type": "code",
   "execution_count": null,
   "metadata": {},
   "outputs": [],
   "source": [
    "# 2.5 step 13\n",
    "x = int(input())\n",
    "\n",
    "a = x // 100\n",
    "b = x % 10\n",
    "c = x % 100 // 10\n",
    "\n",
    "print(\"Сумма цифр =\", a + b + c)\n",
    "print(\"Произведение цифр =\", a * b * c)"
   ]
  },
  {
   "cell_type": "code",
   "execution_count": null,
   "metadata": {},
   "outputs": [],
   "source": [
    "# 2.5 step 14\n",
    "x = int(input())\n",
    "\n",
    "a = x // 100\n",
    "b = x % 100 // 10\n",
    "c = x % 10\n",
    "\n",
    "print(a,b,c, sep=\"\")\n",
    "print(a,c,b, sep=\"\")\n",
    "print(b,a,c, sep=\"\")\n",
    "print(b,c,a, sep=\"\")\n",
    "print(c,a,b, sep=\"\")\n",
    "print(c,b,a, sep=\"\")"
   ]
  },
  {
   "cell_type": "code",
   "execution_count": null,
   "metadata": {},
   "outputs": [],
   "source": [
    "# 2.5 step 15\n",
    "x = int(input())\n",
    "\n",
    "a = x // 1000\n",
    "b = x % 1000 // 100\n",
    "c = x % 100 // 10\n",
    "d = x % 10\n",
    "\n",
    "print(\"Цифра в позиции тысяч равна\", a)\n",
    "print(\"Цифра в позиции сотен равна\", b)\n",
    "print(\"Цифра в позиции десятков равна\", c)\n",
    "print(\"Цифра в позиции единиц равна\", d)"
   ]
  },
  {
   "cell_type": "code",
   "execution_count": 4,
   "metadata": {},
   "outputs": [
    {
     "name": "stdout",
     "output_type": "stream",
     "text": [
      "28\n"
     ]
    }
   ],
   "source": [
    "# 4.3 step 8\n",
    "manth = int(input())\n",
    "\n",
    "if manth == 2:\n",
    "    print(\"28\")\n",
    "elif manth == 4 or manth == 6 or manth == 9 or manth == 11:\n",
    "    print(\"30\")\n",
    "else:\n",
    "    print(\"31\")"
   ]
  },
  {
   "cell_type": "code",
   "execution_count": null,
   "metadata": {},
   "outputs": [],
   "source": [
    "# 4.3 step 9\n",
    "x = int(input())\n",
    "\n",
    "if x == 0:\n",
    "    print(\"зеленый\")\n",
    "elif 1 <= x <= 10 and (x % 2 == 0):\n",
    "     print(\"черный\")\n",
    "elif 1 <= x <= 10 and (x % 2 != 0):\n",
    "     print(\"красный\")\n",
    "elif 11 <= x <= 18 and (x % 2 == 0):\n",
    "    print(\"красный\")\n",
    "elif 11 <= x <= 18 and (x % 2 != 0):\n",
    "    print(\"черный\")   \n",
    "elif 19 <= x <= 28 and (x % 2 == 0):\n",
    "    print(\"черный\")\n",
    "elif 19 <= x <= 28 and (x % 2 != 0):\n",
    "    print(\"красный\")  \n",
    "elif 29 <= x <= 36 and (x % 2 != 0):\n",
    "    print(\"черный\")\n",
    "elif 29 <= x <= 36 and (x % 2 == 0):\n",
    "    print(\"красный\")\n",
    "else:\n",
    "    print(\"ошибка ввода\")\n"
   ]
  },
  {
   "cell_type": "code",
   "execution_count": 6,
   "metadata": {},
   "outputs": [
    {
     "name": "stdout",
     "output_type": "stream",
     "text": [
      "-100 -51\n"
     ]
    }
   ],
   "source": [
    "# 4.3 step 10\n",
    "a1 = int(input())\n",
    "b1 = int(input())\n",
    "a2 = int(input())\n",
    "b2 = int(input())\n",
    "\n",
    "if a2 < a1:\n",
    "    a1, b1, a2, b2 = a2, b2, a1, b1 \n",
    "if a2 > b1: \n",
    "    print(\"пустое множество\")\n",
    "elif a2 == b1:\n",
    "    print(a2)\n",
    "else:\n",
    "    if b1 < b2:\n",
    "        print(a2, b1)\n",
    "    else:\n",
    "        print(a2, b2)"
   ]
  },
  {
   "cell_type": "code",
   "execution_count": null,
   "metadata": {},
   "outputs": [],
   "source": [
    "# 5.1 step 1\n",
    "x = int(input())\n",
    "\n",
    "if x % 2 == 0 and x % 100 == 0:\n",
    "    print(\"YES\")\n",
    "else: \n",
    "    print(\"NO\")"
   ]
  },
  {
   "cell_type": "code",
   "execution_count": null,
   "metadata": {},
   "outputs": [],
   "source": [
    "# 5.1 step 2\n",
    "x1, y1, x2, y2 = int(input()), int(input()), int(input()), int(input())\n",
    "\n",
    "if (x1 + y1 + x2 + y2) % 2 == 0:\n",
    "    print(\"YES\")\n",
    "else: \n",
    "    print(\"NO\")"
   ]
  },
  {
   "cell_type": "code",
   "execution_count": null,
   "metadata": {},
   "outputs": [],
   "source": [
    "# 5.1 step 3\n",
    "age = int(input())\n",
    "sex = input()\n",
    "\n",
    "if 10 <= age <= 15 and sex == \"f\":\n",
    "    print(\"YES\")\n",
    "else:\n",
    "    print(\"NO\")\n"
   ]
  },
  {
   "cell_type": "code",
   "execution_count": null,
   "metadata": {},
   "outputs": [],
   "source": [
    "# 5.1 step 4\n",
    "num = int(input())\n",
    "\n",
    "if num == 1:\n",
    "    print(\"I\")\n",
    "elif num == 2:\n",
    "    print(\"II\")\n",
    "elif num == 3:\n",
    "    print(\"III\")\n",
    "elif num == 4:\n",
    "    print(\"IV\")\n",
    "elif num == 5:\n",
    "    print(\"V\")\n",
    "elif num == 6:\n",
    "    print(\"VI\")\n",
    "elif num == 7:\n",
    "    print(\"VII\")\n",
    "elif num == 8:\n",
    "    print(\"VIII\")\n",
    "elif num == 9:\n",
    "    print(\"IX\")\n",
    "elif num == 10:\n",
    "    print(\"X\")\n",
    "else:\n",
    "    print(\"ошибка\")"
   ]
  },
  {
   "cell_type": "code",
   "execution_count": null,
   "metadata": {},
   "outputs": [],
   "source": [
    "# 5.1 step 5\n",
    "num = int(input())\n",
    "\n",
    "if num % 2 != 0:\n",
    "    print(\"YES\")\n",
    "elif num % 2 == 0 and 2 <= num <= 5:\n",
    "    print(\"NO\")\n",
    "elif num % 2 == 0 and 6 <= num <= 20:\n",
    "    print(\"YES\")\n",
    "else:\n",
    "    if num % 2 == 0 and num > 20:\n",
    "        print(\"NO\")"
   ]
  },
  {
   "cell_type": "code",
   "execution_count": null,
   "metadata": {},
   "outputs": [],
   "source": [
    "# 5.1 step 6\n",
    "x1, y1, x2, y2 = int(input()), int(input()), int(input()), int(input())\n",
    "\n",
    "if (x1 - y1 == x2 - y2) or (x1 + y1 == x2 + y2):\n",
    "    print(\"YES\")\n",
    "else: \n",
    "    print(\"NO\")"
   ]
  },
  {
   "cell_type": "code",
   "execution_count": null,
   "metadata": {},
   "outputs": [],
   "source": [
    "# 5.1 step 7\n",
    "x1, y1, x2, y2 = int(input()), int(input()), int(input()), int(input())\n",
    "\n",
    "if (x1 - x2 == 1 or x1 - x2 == -1) and (y1 - y2 == 2 or y1 - y2 == -2):\n",
    "    print(\"YES\")\n",
    "elif (x1 - x2 == 2 or x1 - x2 == -2) and (y1 - y2 == 1 or y1 - y2 == -1):\n",
    "    print(\"YES\")\n",
    "else: \n",
    "    print(\"NO\")"
   ]
  },
  {
   "cell_type": "code",
   "execution_count": null,
   "metadata": {},
   "outputs": [],
   "source": [
    "# 5.1 step 8\n",
    "a = int(input())\n",
    "b = int(input())\n",
    "c = int(input())\n",
    "d = int(input())\n",
    "if a == c or b == d or a - c == b - d or a + b == c + d:\n",
    "    print(\"YES\")\n",
    "else:\n",
    "    print(\"NO\")"
   ]
  },
  {
   "cell_type": "code",
   "execution_count": null,
   "metadata": {},
   "outputs": [],
   "source": [
    "# 6.1 step 3\n",
    "a = float(input())\n",
    "b = float(input())\n",
    "\n",
    "print(0.5 * a * b)"
   ]
  },
  {
   "cell_type": "code",
   "execution_count": null,
   "metadata": {},
   "outputs": [],
   "source": [
    "# 6.1 step 4\n",
    "s = float(input())\n",
    "v1 = float(input())\n",
    "v2 = float(input())\n",
    "\n",
    "print(s / (v1 + v2))"
   ]
  },
  {
   "cell_type": "code",
   "execution_count": null,
   "metadata": {},
   "outputs": [],
   "source": [
    "# 6.1 step 5\n",
    "x = float(input())\n",
    "\n",
    "if x == 0:\n",
    "    print(\"Обратного числа не существует\")\n",
    "else:\n",
    "    print(1 / x)"
   ]
  },
  {
   "cell_type": "code",
   "execution_count": null,
   "metadata": {},
   "outputs": [],
   "source": [
    "# 6.1 step 6\n",
    "x = float(input())\n",
    "print((5 / 9) * (x - 32))"
   ]
  },
  {
   "cell_type": "code",
   "execution_count": null,
   "metadata": {},
   "outputs": [],
   "source": [
    "# 6.1 step 7\n",
    "dogsage = int(input())\n",
    "\n",
    "if 2 < dogsage:\n",
    "    print(21 + (dogsage - 2) * 4)\n",
    "else:\n",
    "    print(dogsage * 10.5)"
   ]
  },
  {
   "cell_type": "code",
   "execution_count": null,
   "metadata": {},
   "outputs": [],
   "source": [
    "# 6.1 step 8\n",
    "x = float(input())\n",
    "\n",
    "print(int(x * 10) % 10)"
   ]
  },
  {
   "cell_type": "code",
   "execution_count": null,
   "metadata": {},
   "outputs": [],
   "source": [
    "# 6.1 step 9\n",
    "x = float(input())\n",
    "y = int(x)\n",
    "print(x - y)"
   ]
  },
  {
   "cell_type": "code",
   "execution_count": null,
   "metadata": {},
   "outputs": [],
   "source": [
    "# 6.1 step 13 Сортировка трёх 🌶️\n",
    "a = int(input())\n",
    "b = int(input())\n",
    "c = int(input())\n",
    "print(max(a, b, c))\n",
    "print((a + b + c) - (min(a, b, c) + max (a, b, c)))\n",
    "print(min(a, b, c))"
   ]
  }
 ],
 "metadata": {
  "kernelspec": {
   "display_name": "venv",
   "language": "python",
   "name": "python3"
  },
  "language_info": {
   "codemirror_mode": {
    "name": "ipython",
    "version": 3
   },
   "file_extension": ".py",
   "mimetype": "text/x-python",
   "name": "python",
   "nbconvert_exporter": "python",
   "pygments_lexer": "ipython3",
   "version": "3.10.12"
  },
  "orig_nbformat": 4
 },
 "nbformat": 4,
 "nbformat_minor": 2
}
