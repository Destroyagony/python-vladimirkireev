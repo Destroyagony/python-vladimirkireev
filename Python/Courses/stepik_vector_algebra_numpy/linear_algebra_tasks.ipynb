{
 "cells": [
  {
   "cell_type": "code",
   "execution_count": 9,
   "metadata": {},
   "outputs": [
    {
     "name": "stdout",
     "output_type": "stream",
     "text": [
      "[]\n"
     ]
    }
   ],
   "source": [
    "# 2.1 Вектора и их свойства // step 14\n",
    "\n",
    "\"\"\"\n",
    "Вход: 2 целых числа, разделенные пробелом.\n",
    "\n",
    "Выход: массив NumPy из этих чисел.\n",
    "\n",
    "Sample Input:\n",
    "\n",
    "3 2\n",
    "Sample Output:\n",
    "\n",
    "[3 2]\n",
    "\"\"\"\n",
    "\n",
    "import numpy as np\n",
    "a = np.array(input().split(), dtype = int) # принимаем значения из списка в массив\n",
    "print(a)"
   ]
  },
  {
   "cell_type": "code",
   "execution_count": 10,
   "metadata": {},
   "outputs": [
    {
     "name": "stdout",
     "output_type": "stream",
     "text": [
      "10.0\n"
     ]
    }
   ],
   "source": [
    "#L1 norm(L1 норма Манхетонская норма) - Manhetn\n",
    "import numpy as np\n",
    "\n",
    "vector_god = np.array([1, -2, 3, -4])\n",
    "\n",
    "result_vector_god = np.linalg.norm(vector_god, ord = 1)\n",
    "\n",
    "print(result_vector_god)"
   ]
  },
  {
   "cell_type": "code",
   "execution_count": 11,
   "metadata": {},
   "outputs": [
    {
     "name": "stdout",
     "output_type": "stream",
     "text": [
      "7.0710678118654755\n"
     ]
    }
   ],
   "source": [
    "#L2 norm (L2 норма - Евклидова) - Evklid\n",
    "\n",
    "import numpy as np\n",
    "\n",
    "vector_friend = np.array([3, 4, 5])\n",
    "result_vector_fried = np.linalg.norm(vector_friend)\n",
    "print(result_vector_fried)"
   ]
  },
  {
   "cell_type": "code",
   "execution_count": 12,
   "metadata": {},
   "outputs": [
    {
     "name": "stdout",
     "output_type": "stream",
     "text": [
      "7.0\n"
     ]
    }
   ],
   "source": [
    "#L бесконечность\n",
    "\n",
    "vector_Vectorius = np.array([2, -5, 1, 7, -3, 0])\n",
    "resuls_vector_Vectorius = np.linalg.norm(vector_Vectorius, ord = np.inf)\n",
    "print(resuls_vector_Vectorius)"
   ]
  },
  {
   "cell_type": "code",
   "execution_count": 13,
   "metadata": {},
   "outputs": [
    {
     "data": {
      "text/plain": [
       "array([3, 0, 4])"
      ]
     },
     "execution_count": 13,
     "metadata": {},
     "output_type": "execute_result"
    }
   ],
   "source": [
    "#2.3 Линейные операции над векторами - сложение\n",
    "import numpy as np\n",
    "v_a = np.array([1, 2, -1])\n",
    "v_b = np.array([2, -2, 5])\n",
    "def sum_of_vectors(v_a, v_b):\n",
    "    summa = np.add(v_a, v_b)\n",
    "    return summa\n",
    "sum_of_vectors((1, 2,-1),(2, -2 , 5))\n"
   ]
  },
  {
   "cell_type": "code",
   "execution_count": 14,
   "metadata": {},
   "outputs": [
    {
     "name": "stdout",
     "output_type": "stream",
     "text": [
      "[-1  2 -3]\n"
     ]
    }
   ],
   "source": [
    "#2.3 Линейные операции над векторами - вычитание\n",
    "import numpy as np\n",
    "\n",
    "v1 = np.array([2, 3, -1])\n",
    "v2 = np.array([3, 1, 2])\n",
    "\n",
    "subtraction = np.subtract(v1, v2)\n",
    "print(subtraction)"
   ]
  },
  {
   "cell_type": "code",
   "execution_count": 15,
   "metadata": {},
   "outputs": [
    {
     "name": "stdout",
     "output_type": "stream",
     "text": [
      "[1 0 0]\n"
     ]
    }
   ],
   "source": [
    "#2.3 Линейные операции над векторами -  сложения/вычитания векторов и умножение вектора на число\n",
    "import numpy as np\n",
    "\n",
    "v1 = np.array([2, 3, 2])\n",
    "v2 = np.array([1, 3, 2])\n",
    "\n",
    "subtraction = v1 - v2\n",
    "print(subtraction)"
   ]
  },
  {
   "cell_type": "code",
   "execution_count": 16,
   "metadata": {},
   "outputs": [
    {
     "name": "stdout",
     "output_type": "stream",
     "text": [
      "[-2.  -4.3  0. ]\n",
      "4.742362280551751\n"
     ]
    }
   ],
   "source": [
    "#2.3 Линейные операции над векторами - вычитание\n",
    "# Нужно найти модуль разности векторов\n",
    "import numpy as np\n",
    "\"\"\"Описание задачи\n",
    "Однажды им поступило задание - вычислить разность между двумя векторами а и b. В первый день они узнали координаты первого вектора a, который представлял собой могучую стрелу, выпущенную из лука крепкого лучника. Второй вектор b был как гладкий шар, который можно было пнуть ногой и он начнет скользить по склону горы. Бравые рыцари знали, что для того, чтобы выполнить задание, необходимо найти модуль разности этих векторов. С помощью своей длинной линейки Разность измерил длину разности векторов и нашел ее значение. А Модуль, используя свою мощную силу, возведенную в квадрат, нашел равную величину длины разности, которая была положительным числом. Так они и преуспели в этом задании, победив зло и защитив мир от тьмы и невежества.\n",
    "\"\"\"\n",
    "v1 = np.array([2, -1, 2])\n",
    "v2 = np.array([4, 3.3, 2])\n",
    "\n",
    "v3_subtraction = v1 - v2 # находим разность между векторами\n",
    "v3_module = np.linalg.norm(v3_subtraction) # вычитаем модуль разности\n",
    "print(v3_subtraction)\n",
    "print(v3_module)\n"
   ]
  },
  {
   "cell_type": "code",
   "execution_count": 17,
   "metadata": {},
   "outputs": [],
   "source": [
    "#2.2 Линейные операции над векторами - вычитание\n",
    "# Нужно найти модуль разности векторов"
   ]
  },
  {
   "cell_type": "code",
   "execution_count": 27,
   "metadata": {},
   "outputs": [
    {
     "name": "stdout",
     "output_type": "stream",
     "text": [
      "12.365251967896453\n"
     ]
    }
   ],
   "source": [
    "#2.2 Линейные операции над векторами - вычитание\n",
    "\"\"\"ArithmeticError\n",
    "Однажды Булочка, путешествуя по трехмерной вселенной, наткнулась на загадочную ломаную линию. Она начала следовать за ней, совершая различные повороты и перемещения. Координаты точек ломаной были следующими: А1(0,0,0) А2(1,1,0) А3(2,-2,0) А4(2,2,2) А5(3,1,-1). Булочка хочет вычислить длину этой загадочной линии. Помогите ей решить эту загадку и найти длину ломаной линии.\n",
    "\n",
    "В поле ответа вставьте значение длины ломаной, округленное до одного знака после запятой. \n",
    "\"\"\"\n",
    "import numpy as np\n",
    "\n",
    "a1, a2, a3, a4, a5 = np.array([0,0,0]), np.array([1,1,0]), np.array([2,-2,0]), np.array([2,2,2]), np.array([3,1,-1])\n",
    "b1 = a2 - a1 # находим длину отрезков\n",
    "b2 = a3 - a2\n",
    "b3 = a4 - a3\n",
    "b4 = a5 - a4\n",
    "module_b1 = np.linalg.norm(b1) # вычисляем модуль \n",
    "module_b2 = np.linalg.norm(b2)\n",
    "module_b3 = np.linalg.norm(b3)\n",
    "module_b4 = np.linalg.norm(b4)\n",
    "print(module_b1 + module_b2 + module_b3 + module_b4) #суммируем модули"
   ]
  }
 ],
 "metadata": {
  "kernelspec": {
   "display_name": "Python 3",
   "language": "python",
   "name": "python3"
  },
  "language_info": {
   "codemirror_mode": {
    "name": "ipython",
    "version": 3
   },
   "file_extension": ".py",
   "mimetype": "text/x-python",
   "name": "python",
   "nbconvert_exporter": "python",
   "pygments_lexer": "ipython3",
   "version": "3.10.13"
  }
 },
 "nbformat": 4,
 "nbformat_minor": 2
}
