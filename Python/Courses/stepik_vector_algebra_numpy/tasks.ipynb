{
 "cells": [
  {
   "cell_type": "code",
   "execution_count": null,
   "metadata": {},
   "outputs": [],
   "source": [
    "# 2.1 Вектора и их свойства // step 14\n",
    "\n",
    "\"\"\"\n",
    "Вход: 2 целых числа, разделенные пробелом.\n",
    "\n",
    "Выход: массив NumPy из этих чисел.\n",
    "\n",
    "Sample Input:\n",
    "\n",
    "3 2\n",
    "Sample Output:\n",
    "\n",
    "[3 2]\n",
    "\"\"\"\n",
    "\n",
    "import numpy as np\n",
    "a = np.array(input().split(), dtype = int) # принимаем значения из списка в массив\n",
    "print(a)"
   ]
  },
  {
   "cell_type": "code",
   "execution_count": 1,
   "metadata": {},
   "outputs": [
    {
     "data": {
      "text/plain": [
       "19"
      ]
     },
     "execution_count": 1,
     "metadata": {},
     "output_type": "execute_result"
    }
   ],
   "source": [
    "1 + 9 + 4 + 4 + 1"
   ]
  }
 ],
 "metadata": {
  "kernelspec": {
   "display_name": "Python 3",
   "language": "python",
   "name": "python3"
  },
  "language_info": {
   "codemirror_mode": {
    "name": "ipython",
    "version": 3
   },
   "file_extension": ".py",
   "mimetype": "text/x-python",
   "name": "python",
   "nbconvert_exporter": "python",
   "pygments_lexer": "ipython3",
   "version": "3.10.13"
  }
 },
 "nbformat": 4,
 "nbformat_minor": 2
}
