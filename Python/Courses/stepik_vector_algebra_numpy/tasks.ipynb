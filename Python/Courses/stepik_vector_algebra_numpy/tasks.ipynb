{
 "cells": [
  {
   "cell_type": "code",
   "execution_count": null,
   "metadata": {},
   "outputs": [],
   "source": [
    "# 2.1 Вектора и их свойства // step 14\n",
    "\n",
    "\"\"\"\n",
    "Вход: 2 целых числа, разделенные пробелом.\n",
    "\n",
    "Выход: массив NumPy из этих чисел.\n",
    "\n",
    "Sample Input:\n",
    "\n",
    "3 2\n",
    "Sample Output:\n",
    "\n",
    "[3 2]\n",
    "\"\"\"\n",
    "\n",
    "import numpy as np\n",
    "a = np.array(input().split(), dtype = int) # принимаем значения из списка в массив\n",
    "print(a)"
   ]
  },
  {
   "cell_type": "code",
   "execution_count": 1,
   "metadata": {},
   "outputs": [
    {
     "name": "stdout",
     "output_type": "stream",
     "text": [
      "10.0\n"
     ]
    }
   ],
   "source": [
    "#L1 norm(L1 норма Манхетонская норма) - Manhetn\n",
    "import numpy as np\n",
    "\n",
    "vector_god = np.array([1, -2, 3, -4])\n",
    "\n",
    "result_vector_god = np.linalg.norm(vector_god, ord = 1)\n",
    "\n",
    "print(result_vector_god)"
   ]
  },
  {
   "cell_type": "code",
   "execution_count": 3,
   "metadata": {},
   "outputs": [
    {
     "name": "stdout",
     "output_type": "stream",
     "text": [
      "7.0710678118654755\n"
     ]
    }
   ],
   "source": [
    "#L2 norm (L2 норма - Евклидова) - Evklid\n",
    "\n",
    "import numpy as np\n",
    "\n",
    "vector_friend = np.array([3, 4, 5])\n",
    "result_vector_fried = np.linalg.norm(vector_friend)\n",
    "print(result_vector_fried)"
   ]
  },
  {
   "cell_type": "code",
   "execution_count": 4,
   "metadata": {},
   "outputs": [
    {
     "name": "stdout",
     "output_type": "stream",
     "text": [
      "7.0\n"
     ]
    }
   ],
   "source": [
    "#L бесконечность\n",
    "\n",
    "vector_Vectorius = np.array([2, -5, 1, 7, -3, 0])\n",
    "resuls_vector_Vectorius = np.linalg.norm(vector_Vectorius, ord = np.inf)\n",
    "print(resuls_vector_Vectorius)"
   ]
  },
  {
   "cell_type": "code",
   "execution_count": 20,
   "metadata": {},
   "outputs": [
    {
     "data": {
      "text/plain": [
       "array([3, 0, 4])"
      ]
     },
     "execution_count": 20,
     "metadata": {},
     "output_type": "execute_result"
    }
   ],
   "source": [
    "#2.3 Линейные операции над векторами\n",
    "import numpy as np\n",
    "v_a = np.array([1, 2, -1])\n",
    "v_b = np.array([2, -2, 5])\n",
    "def sum_of_vectors(v_a, v_b):\n",
    "    summa = np.add(v_a, v_b)\n",
    "    return summa\n",
    "sum_of_vectors((1, 2,-1),(2, -2 , 5))\n"
   ]
  }
 ],
 "metadata": {
  "kernelspec": {
   "display_name": "Python 3",
   "language": "python",
   "name": "python3"
  },
  "language_info": {
   "codemirror_mode": {
    "name": "ipython",
    "version": 3
   },
   "file_extension": ".py",
   "mimetype": "text/x-python",
   "name": "python",
   "nbconvert_exporter": "python",
   "pygments_lexer": "ipython3",
   "version": "3.10.13"
  }
 },
 "nbformat": 4,
 "nbformat_minor": 2
}
