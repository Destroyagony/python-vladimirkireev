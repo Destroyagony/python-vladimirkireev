{
 "cells": [
  {
   "cell_type": "code",
   "execution_count": 12,
   "metadata": {},
   "outputs": [
    {
     "data": {
      "text/plain": [
       "type"
      ]
     },
     "execution_count": 12,
     "metadata": {},
     "output_type": "execute_result"
    }
   ],
   "source": [
    "print\n",
    "type(print) # name of class / type of object\n",
    "# help(print)\\\n",
    "type(int)\n",
    "# help(int)\n",
    "# builtin - системная области\n"
   ]
  },
  {
   "cell_type": "code",
   "execution_count": 11,
   "metadata": {},
   "outputs": [
    {
     "data": {
      "text/plain": [
       "'Hello, World'"
      ]
     },
     "execution_count": 11,
     "metadata": {},
     "output_type": "execute_result"
    }
   ],
   "source": [
    "text: str = \"World\"\n",
    "\n",
    "def back_hello(text: str) -> str:\n",
    "    return f\"Hello, {text}\" # operator or keyword, f'{}' -> извлечение значения из строки это интерполяция\n",
    "\n",
    "back_hello(text) # аргументы "
   ]
  },
  {
   "cell_type": "code",
   "execution_count": 19,
   "metadata": {},
   "outputs": [
    {
     "data": {
      "text/plain": [
       "[395.26, 251.798]"
      ]
     },
     "execution_count": 19,
     "metadata": {},
     "output_type": "execute_result"
    }
   ],
   "source": [
    "# https://leetcode.com/problems/convert-the-temperature/\n",
    "# Input: celsius = 122.11\n",
    "# Output: [395.26000,251.79800]\n",
    "# Kelvin = Celsius + 273.15\n",
    "# Fahrenheit = Celsius * 1.80 + 32.00\n",
    "from typing import List\n",
    "\n",
    "class Solution: # класс это контейнер для функций\n",
    "    text = \"name\" # свойство класса, хранит данные\n",
    "    def convertTemperature(self, celsius: float) -> List[float]: # функции в классе это методы\n",
    "        return [celsius + 273.15, celsius * 1.80 + 32.00] # data type list\n",
    "object_of_class = Solution() # create object / create instanse of class\n",
    "celsius = 122.11\n",
    "object_of_class.convertTemperature(celsius) \n",
    "# object_of_class1 = Solution()\n",
    "# object_of_class1.convertTemperature(5)\n",
    "# dir(object_of_class) # __class__ дандер атрибуты класса, определены по умолчанию\n",
    "        "
   ]
  },
  {
   "cell_type": "code",
   "execution_count": null,
   "metadata": {},
   "outputs": [],
   "source": [
    "import typing\n",
    "typing"
   ]
  },
  {
   "cell_type": "code",
   "execution_count": 10,
   "metadata": {},
   "outputs": [],
   "source": [
    "# +-- package(typing) => пакет это совокупность модулей\n",
    "#   +-- module => file.py or file.ipynb"
   ]
  },
  {
   "cell_type": "code",
   "execution_count": null,
   "metadata": {},
   "outputs": [],
   "source": [
    "# https://leetcode.com/problems/divisible-and-non-divisible-sums-difference/\n",
    "# Input: n = 10, m = 3\n",
    "# Output: 19\n",
    "\n",
    "class Solution:\n",
    "    def differenceOfSums(self, n: int, m: int) -> int:\n",
    "        return [n]\n",
    "n = 10, m = 3"
   ]
  },
  {
   "cell_type": "code",
   "execution_count": null,
   "metadata": {},
   "outputs": [],
   "source": []
  }
 ],
 "metadata": {
  "kernelspec": {
   "display_name": "base",
   "language": "python",
   "name": "python3"
  },
  "language_info": {
   "codemirror_mode": {
    "name": "ipython",
    "version": 3
   },
   "file_extension": ".py",
   "mimetype": "text/x-python",
   "name": "python",
   "nbconvert_exporter": "python",
   "pygments_lexer": "ipython3",
   "version": "3.11.4"
  }
 },
 "nbformat": 4,
 "nbformat_minor": 2
}
