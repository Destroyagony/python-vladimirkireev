{
 "cells": [
  {
   "cell_type": "code",
   "execution_count": 22,
   "metadata": {},
   "outputs": [
    {
     "data": {
      "text/plain": [
       "type"
      ]
     },
     "execution_count": 22,
     "metadata": {},
     "output_type": "execute_result"
    }
   ],
   "source": [
    "print\n",
    "type(print) # name of class / type of object\n",
    "# help(print)\\\n",
    "type(int)\n",
    "# help(int)\n",
    "# builtin - системная области\n"
   ]
  },
  {
   "cell_type": "code",
   "execution_count": null,
   "metadata": {},
   "outputs": [],
   "source": [
    "text: str = \"World\"\n",
    "\n",
    "def back_hello(text: str) -> str:\n",
    "    return f\"Hello, {text}\" # operator or keyword, f'{}' -> извлечение значения из строки это интерполяция\n",
    "\n",
    "back_hello(text) # аргументы "
   ]
  },
  {
   "cell_type": "code",
   "execution_count": 24,
   "metadata": {},
   "outputs": [
    {
     "data": {
      "text/plain": [
       "[395.26, 251.798]"
      ]
     },
     "execution_count": 24,
     "metadata": {},
     "output_type": "execute_result"
    }
   ],
   "source": [
    "# https://leetcode.com/problems/convert-the-temperature/\n",
    "# Input: celsius = 122.11\n",
    "# Output: [395.26000,251.79800]\n",
    "# Kelvin = Celsius + 273.15\n",
    "# Fahrenheit = Celsius * 1.80 + 32.00\n",
    "from typing import List\n",
    "\n",
    "class Solution: # класс это контейнер для функций\n",
    "    text = \"name\" # свойство класса, хранит данные\n",
    "    def convertTemperature(self, celsius: float) -> List[float]: # функции в классе это методы\n",
    "        return [celsius + 273.15, celsius * 1.80 + 32.00] # data type list\n",
    "object_of_class = Solution() # create object / create instanse of class\n",
    "celsius = 122.11\n",
    "object_of_class.convertTemperature(celsius) \n",
    "# object_of_class1 = Solution()\n",
    "# object_of_class1.convertTemperature(5)\n",
    "# dir(object_of_class) # __class__ дандер атрибуты класса, определены по умолчанию\n",
    "        "
   ]
  },
  {
   "cell_type": "code",
   "execution_count": 25,
   "metadata": {},
   "outputs": [
    {
     "data": {
      "text/plain": [
       "<module 'typing' from '/home/valdevay/anaconda3/lib/python3.11/typing.py'>"
      ]
     },
     "execution_count": 25,
     "metadata": {},
     "output_type": "execute_result"
    }
   ],
   "source": [
    "import typing\n",
    "typing"
   ]
  },
  {
   "cell_type": "code",
   "execution_count": 26,
   "metadata": {},
   "outputs": [],
   "source": [
    "# +-- package(typing) => пакет это совокупность модулей\n",
    "#   +-- module => file.py or file.ipynb"
   ]
  },
  {
   "cell_type": "code",
   "execution_count": null,
   "metadata": {},
   "outputs": [],
   "source": [
    "# https://leetcode.com/problems/divisible-and-non-divisible-sums-difference/\n",
    "# Input: n = 10, m = 3\n",
    "# Output: 19\n",
    "\n",
    "class Solution:\n",
    "    def differenceOfSums(self, n: int, m: int) -> int:\n",
    "        return [n]\n",
    "n = 10, m = 3"
   ]
  },
  {
   "cell_type": "code",
   "execution_count": null,
   "metadata": {},
   "outputs": [],
   "source": [
    "# https://leetcode.com/problems/sum-multiples/\n",
    "\"\"\"\n",
    "Example 1:\n",
    "\n",
    "Input: n = 7\n",
    "Output: 21\n",
    "Explanation: Numbers in the range [1, 7] that are divisible by 3, 5, or 7 are 3, 5, 6, 7. The sum of these numbers is 21.\n",
    "Example 2:\n",
    "\n",
    "Input: n = 10\n",
    "Output: 40\n",
    "Explanation: Numbers in the range [1, 10] that are divisible by 3, 5, or 7 are 3, 5, 6, 7, 9, 10. The sum of these numbers is 40.\n",
    "Example 3:\n",
    "\n",
    "Input: n = 9\n",
    "Output: 30\n",
    "Explanation: Numbers in the range [1, 9] that are divisible by 3, 5, or 7 are 3, 5, 6, 7, 9. The sum of these numbers is 30.\n",
    "\"\"\"\n",
    "def sumOfMultiples(n: int) -> int:\n",
    "    counter = 0\n",
    "    for i in range(1, n+1):\n",
    "        if i % 3 == 0 or i % 5 == 0 or i % 7 == 0:\n",
    "            counter = counter + i\n",
    "            print(counter)        \n",
    "    return counter\n",
    "sumOfMultiples(7)"
   ]
  },
  {
   "cell_type": "code",
   "execution_count": null,
   "metadata": {},
   "outputs": [],
   "source": [
    "# https://leetcode.com/problems/count-the-digits-that-divide-a-number/solutions/3129582/python-easy-solution/\n",
    "\"\"\"Example 1:\n",
    "\n",
    "Input: num = 7\n",
    "Output: 1\n",
    "Explanation: 7 divides itself, hence the answer is 1.\n",
    "Example 2:\n",
    "\n",
    "Input: num = 121\n",
    "Output: 2\n",
    "Explanation: 121 is divisible by 1, but not 2. Since 1 occurs twice as a digit, we return 2.\n",
    "Example 3:\n",
    "\n",
    "Input: num = 1248\n",
    "Output: 4\n",
    "Explanation: 1248 is divisible by all of its digits, hence the answer is 4.\n",
    "\"\"\"\n",
    "class Solution:\n",
    "    def countDigits(self, num: int) -> int:\n",
    "        counter = 0\n",
    "        num_original = num\n",
    "        while num != 0:\n",
    "            x = num % 10\n",
    "            num //= 10\n",
    "            if num_original % x == 0:\n",
    "                counter += 1\n",
    "        return counter"
   ]
  },
  {
   "cell_type": "code",
   "execution_count": null,
   "metadata": {},
   "outputs": [],
   "source": [
    "# https://leetcode.com/problems/divisible-and-non-divisible-sums-difference/submissions/\n",
    "\"\"\"\n",
    "Example 1:\n",
    "\n",
    "Input: n = 10, m = 3\n",
    "Output: 19\n",
    "Explanation: In the given example:\n",
    "- Integers in the range [1, 10] that are not divisible by 3 are [1,2,4,5,7,8,10], num1 is the sum of those integers = 37.\n",
    "- Integers in the range [1, 10] that are divisible by 3 are [3,6,9], num2 is the sum of those integers = 18.\n",
    "We return 37 - 18 = 19 as the answer.\n",
    "Example 2:\n",
    "\n",
    "Input: n = 5, m = 6\n",
    "Output: 15\n",
    "Explanation: In the given example:\n",
    "- Integers in the range [1, 5] that are not divisible by 6 are [1,2,3,4,5], num1 is the sum of those integers = 15.\n",
    "- Integers in the range [1, 5] that are divisible by 6 are [], num2 is the sum of those integers = 0.\n",
    "We return 15 - 0 = 15 as the answer.\n",
    "Example 3:\n",
    "\n",
    "Input: n = 5, m = 1\n",
    "Output: -15\n",
    "Explanation: In the given example:\n",
    "- Integers in the range [1, 5] that are not divisible by 1 are [], num1 is the sum of those integers = 0.\n",
    "- Integers in the range [1, 5] that are divisible by 1 are [1,2,3,4,5], num2 is the sum of those integers = 15.\n",
    "We return 0 - 15 = -15 as the answer.\n",
    "\"\"\"\n",
    "class Solution:\n",
    "    def differenceOfSums(self, n: int, m: int) -> int:\n",
    "        num1 = 0\n",
    "        num2 = 0\n",
    "        for i in range(1, n + 1):\n",
    "            if i % m != 0:\n",
    "                num1 += i               \n",
    "        for i in range(1, n + 1):\n",
    "            if i % m == 0:\n",
    "                num2 += i\n",
    "        sum = num1 - num2\n",
    "        return sum"
   ]
  },
  {
   "cell_type": "code",
   "execution_count": null,
   "metadata": {},
   "outputs": [],
   "source": [
    "# https://leetcode.com/problems/add-two-integers/submissions/\n",
    "\"\"\"\n",
    "Example 1:\n",
    "\n",
    "Input: num1 = 12, num2 = 5\n",
    "Output: 17\n",
    "Explanation: num1 is 12, num2 is 5, and their sum is 12 + 5 = 17, so 17 is returned.\n",
    "Example 2:\n",
    "\n",
    "Input: num1 = -10, num2 = 4\n",
    "Output: -6\n",
    "Explanation: num1 + num2 = -6, so -6 is returned.\n",
    "\"\"\"\n",
    "class Solution:\n",
    "    def sum(self, num1: int, num2: int) -> int:\n",
    "        return num1 + num2        "
   ]
  },
  {
   "cell_type": "code",
   "execution_count": null,
   "metadata": {},
   "outputs": [],
   "source": [
    "# https://leetcode.com/problems/number-of-good-pairs/\n",
    "\"\"\"\"\n",
    "Given an array of integers nums, return the number of good pairs.\n",
    "\n",
    "A pair (i, j) is called good if nums[i] == nums[j] and i < j.\n",
    "\n",
    " \n",
    "\n",
    "Example 1:\n",
    "\n",
    "Input: nums = [1,2,3,1,1,3]\n",
    "Output: 4\n",
    "Explanation: There are 4 good pairs (0,3), (0,4), (3,4), (2,5) 0-indexed.\n",
    "Example 2:\n",
    "\n",
    "Input: nums = [1,1,1,1]\n",
    "Output: 6\n",
    "Explanation: Each pair in the array are good.\n",
    "Example 3:\n",
    "\n",
    "Input: nums = [1,2,3]\n",
    "Output: 0\n",
    "\"\"\"\n",
    "class Solution:\n",
    "    def numIdenticalPairs(self, nums: List[int]) -> int:\n",
    "        counter = 0  # создаем счетчик хороший пар\n",
    "        for i in range(len(nums)-1): # проходим по списку чисел, без последнего чичсла\n",
    "            for j in range(i + 1, len(nums)): # еще раз проходим по списку\n",
    "                if nums[i] == nums[j]: # проверяем на условие хороших пар\n",
    "                    counter += 1 # скалыдваем хорошие пары в каунтер \n",
    "        return counter            \n",
    "                "
   ]
  },
  {
   "cell_type": "code",
   "execution_count": null,
   "metadata": {},
   "outputs": [],
   "source": [
    "#https://leetcode.com/problems/subtract-the-product-and-sum-of-digits-of-an-integer/solutions/\n",
    "#1281. Subtract the Product and Sum of Digits of an Integer\n",
    "\"\"\"\n",
    "Given an integer number n, return the difference between the product of its digits and the sum of its digits.\n",
    " \n",
    "\n",
    "Example 1:\n",
    "\n",
    "Input: n = 234\n",
    "Output: 15 \n",
    "Explanation: \n",
    "Product of digits = 2 * 3 * 4 = 24 \n",
    "Sum of digits = 2 + 3 + 4 = 9 \n",
    "Result = 24 - 9 = 15\n",
    "Example 2:\n",
    "\n",
    "Input: n = 4421\n",
    "Output: 21\n",
    "Explanation: \n",
    "Product of digits = 4 * 4 * 2 * 1 = 32 \n",
    "Sum of digits = 4 + 4 + 2 + 1 = 11 \n",
    "Result = 32 - 11 = 21\n",
    "\"\"\"\n",
    "class Solution:\n",
    "    def subtractProductAndSum(self, n: int) -> int:\n",
    "        counter_plus = 0\n",
    "        counter_multiply = 1\n",
    "        while n > 0:\n",
    "            num = n % 10\n",
    "            counter_plus += num\n",
    "            counter_multiply *= num\n",
    "            n //= 10\n",
    "        return counter_multiply - counter_plus"
   ]
  }
 ],
 "metadata": {
  "kernelspec": {
   "display_name": "base",
   "language": "python",
   "name": "python3"
  },
  "language_info": {
   "codemirror_mode": {
    "name": "ipython",
    "version": 3
   },
   "file_extension": ".py",
   "mimetype": "text/x-python",
   "name": "python",
   "nbconvert_exporter": "python",
   "pygments_lexer": "ipython3",
   "version": "3.10.12"
  }
 },
 "nbformat": 4,
 "nbformat_minor": 2
}
