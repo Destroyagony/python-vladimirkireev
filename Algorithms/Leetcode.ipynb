{
 "cells": [
  {
   "cell_type": "code",
   "execution_count": 22,
   "metadata": {},
   "outputs": [
    {
     "data": {
      "text/plain": [
       "type"
      ]
     },
     "execution_count": 22,
     "metadata": {},
     "output_type": "execute_result"
    }
   ],
   "source": [
    "print\n",
    "type(print) # name of class / type of object\n",
    "# help(print)\\\n",
    "type(int)\n",
    "# help(int)\n",
    "# builtin - системная области\n"
   ]
  },
  {
   "cell_type": "code",
   "execution_count": 23,
   "metadata": {},
   "outputs": [
    {
     "data": {
      "text/plain": [
       "'Hello, World'"
      ]
     },
     "execution_count": 23,
     "metadata": {},
     "output_type": "execute_result"
    }
   ],
   "source": [
    "text: str = \"World\"\n",
    "\n",
    "def back_hello(text: str) -> str:\n",
    "    return f\"Hello, {text}\" # operator or keyword, f'{}' -> извлечение значения из строки это интерполяция\n",
    "\n",
    "back_hello(text) # аргументы "
   ]
  },
  {
   "cell_type": "code",
   "execution_count": 24,
   "metadata": {},
   "outputs": [
    {
     "data": {
      "text/plain": [
       "[395.26, 251.798]"
      ]
     },
     "execution_count": 24,
     "metadata": {},
     "output_type": "execute_result"
    }
   ],
   "source": [
    "# https://leetcode.com/problems/convert-the-temperature/\n",
    "# Input: celsius = 122.11\n",
    "# Output: [395.26000,251.79800]\n",
    "# Kelvin = Celsius + 273.15\n",
    "# Fahrenheit = Celsius * 1.80 + 32.00\n",
    "from typing import List\n",
    "\n",
    "class Solution: # класс это контейнер для функций\n",
    "    text = \"name\" # свойство класса, хранит данные\n",
    "    def convertTemperature(self, celsius: float) -> List[float]: # функции в классе это методы\n",
    "        return [celsius + 273.15, celsius * 1.80 + 32.00] # data type list\n",
    "object_of_class = Solution() # create object / create instanse of class\n",
    "celsius = 122.11\n",
    "object_of_class.convertTemperature(celsius) \n",
    "# object_of_class1 = Solution()\n",
    "# object_of_class1.convertTemperature(5)\n",
    "# dir(object_of_class) # __class__ дандер атрибуты класса, определены по умолчанию\n",
    "        "
   ]
  },
  {
   "cell_type": "code",
   "execution_count": 25,
   "metadata": {},
   "outputs": [
    {
     "data": {
      "text/plain": [
       "<module 'typing' from '/home/valdevay/anaconda3/lib/python3.11/typing.py'>"
      ]
     },
     "execution_count": 25,
     "metadata": {},
     "output_type": "execute_result"
    }
   ],
   "source": [
    "import typing\n",
    "typing"
   ]
  },
  {
   "cell_type": "code",
   "execution_count": 26,
   "metadata": {},
   "outputs": [],
   "source": [
    "# +-- package(typing) => пакет это совокупность модулей\n",
    "#   +-- module => file.py or file.ipynb"
   ]
  },
  {
   "cell_type": "code",
   "execution_count": null,
   "metadata": {},
   "outputs": [],
   "source": [
    "# https://leetcode.com/problems/divisible-and-non-divisible-sums-difference/\n",
    "# Input: n = 10, m = 3\n",
    "# Output: 19\n",
    "\n",
    "class Solution:\n",
    "    def differenceOfSums(self, n: int, m: int) -> int:\n",
    "        return [n]\n",
    "n = 10, m = 3"
   ]
  },
  {
   "cell_type": "code",
   "execution_count": null,
   "metadata": {},
   "outputs": [],
   "source": [
    "# https://leetcode.com/problems/sum-multiples/\n",
    "\"\"\"\n",
    "Example 1:\n",
    "\n",
    "Input: n = 7\n",
    "Output: 21\n",
    "Explanation: Numbers in the range [1, 7] that are divisible by 3, 5, or 7 are 3, 5, 6, 7. The sum of these numbers is 21.\n",
    "Example 2:\n",
    "\n",
    "Input: n = 10\n",
    "Output: 40\n",
    "Explanation: Numbers in the range [1, 10] that are divisible by 3, 5, or 7 are 3, 5, 6, 7, 9, 10. The sum of these numbers is 40.\n",
    "Example 3:\n",
    "\n",
    "Input: n = 9\n",
    "Output: 30\n",
    "Explanation: Numbers in the range [1, 9] that are divisible by 3, 5, or 7 are 3, 5, 6, 7, 9. The sum of these numbers is 30.\n",
    "\"\"\"\n",
    "def sumOfMultiples(n: int) -> int:\n",
    "    counter = 0\n",
    "    for i in range(1, n+1):\n",
    "        if i % 3 == 0 or i % 5 == 0 or i % 7 == 0:\n",
    "            counter = counter + i\n",
    "            print(counter)        \n",
    "    return counter\n",
    "sumOfMultiples(7)"
   ]
  },
  {
   "cell_type": "code",
   "execution_count": null,
   "metadata": {},
   "outputs": [],
   "source": [
    "# https://leetcode.com/problems/count-the-digits-that-divide-a-number/solutions/3129582/python-easy-solution/\n",
    "\"\"\"Example 1:\n",
    "\n",
    "Input: num = 7\n",
    "Output: 1\n",
    "Explanation: 7 divides itself, hence the answer is 1.\n",
    "Example 2:\n",
    "\n",
    "Input: num = 121\n",
    "Output: 2\n",
    "Explanation: 121 is divisible by 1, but not 2. Since 1 occurs twice as a digit, we return 2.\n",
    "Example 3:\n",
    "\n",
    "Input: num = 1248\n",
    "Output: 4\n",
    "Explanation: 1248 is divisible by all of its digits, hence the answer is 4.\n",
    "\"\"\"\n",
    "class Solution:\n",
    "    def countDigits(self, num: int) -> int:\n",
    "        counter = 0\n",
    "        num_original = num\n",
    "        while num != 0:\n",
    "            x = num % 10\n",
    "            num //= 10\n",
    "            if num_original % x == 0:\n",
    "                counter += 1\n",
    "        return counter"
   ]
  }
 ],
 "metadata": {
  "kernelspec": {
   "display_name": "base",
   "language": "python",
   "name": "python3"
  },
  "language_info": {
   "codemirror_mode": {
    "name": "ipython",
    "version": 3
   },
   "file_extension": ".py",
   "mimetype": "text/x-python",
   "name": "python",
   "nbconvert_exporter": "python",
   "pygments_lexer": "ipython3",
   "version": "3.11.4"
  }
 },
 "nbformat": 4,
 "nbformat_minor": 2
}
